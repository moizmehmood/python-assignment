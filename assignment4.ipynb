{
 "cells": [
  {
   "cell_type": "code",
   "execution_count": 1,
   "metadata": {},
   "outputs": [
    {
     "name": "stdout",
     "output_type": "stream",
     "text": [
      "{'first name': 'moiz', 'last name': 'mehmood', 'age': 23, 'city': 'karachi'}\n",
      "\n",
      "\n",
      "{'first name': 'moiz', 'last name': 'mehmood', 'age': 23, 'city': 'karachi', 'qualification': 'bacholr'}\n",
      "\n",
      "after deleting qualification\n",
      "\n",
      "{'first name': 'moiz', 'last name': 'mehmood', 'age': 23, 'city': 'karachi'}\n"
     ]
    }
   ],
   "source": [
    "# Q1\n",
    "student={\n",
    "    \"first name\":\"moiz\",\n",
    "    \"last name\":\"mehmood\",\n",
    "    \"age\": 23,\n",
    "    \"city\":\"karachi\",\n",
    "}\n",
    "print(student)\n",
    "print(\"\\n\")\n",
    "student[\"qualification\"]=\"bacholr\"\n",
    "print(student)\n",
    "print(\"\\nafter deleting qualification\\n\")\n",
    "del student[\"qualification\"]\n",
    "print(student)"
   ]
  },
  {
   "cell_type": "code",
   "execution_count": 2,
   "metadata": {},
   "outputs": [
    {
     "name": "stdout",
     "output_type": "stream",
     "text": [
      "enter city name : \n",
      "1:karachi\n",
      "2:Dubai\n",
      "3:paris\n",
      "4:exit\n",
      "karachi\n",
      "{'country': 'Pakistan', 'approximate_population': '14.91 million', 'fact': 'Karachi is the Capital of the Pakistani province od Sindh it is the most populous city in Pakistan and fifth-most-populous city proper in the world'}\n",
      "enter city name : \n",
      "1:karachi\n",
      "2:Dubai\n",
      "3:paris\n",
      "4:exit\n",
      "Dubai\n",
      "{'country': 'UAE', 'approximate_population': '3.137 million approx', 'fact': 'Dubai is a city & emirate in the United Arab Emirates known for luxury shopping, ultramodren architecture and a lively nightlife scene'}\n",
      "enter city name : \n",
      "1:karachi\n",
      "2:Dubai\n",
      "3:paris\n",
      "4:exit\n",
      "paris\n",
      "{'country': 'France', 'approximate_population': '2.141 million approx', 'fact': \"Paris, France's capital, is a major European city and a global center for art, fashion gastronomy and culture\"}\n"
     ]
    }
   ],
   "source": [
    "# Q2\n",
    "city ={\n",
    "    \"karachi\" : {\n",
    "        \"country\": \"Pakistan\",\n",
    "        \"approximate_population\":\"14.91 million\",\n",
    "        \"fact\":\"Karachi is the Capital of the Pakistani province od Sindh it is the most populous city in Pakistan and fifth-most-populous city proper in the world\"\n",
    "    },\n",
    "    \"Dubai\" : {\n",
    "        \"country\": \"UAE\",\n",
    "        \"approximate_population\":\"3.137 million approx\",\n",
    "        \"fact\":\"Dubai is a city & emirate in the United Arab Emirates known for luxury shopping, ultramodren architecture and a lively nightlife scene\"\n",
    "    },\n",
    "    \"paris\" : {\n",
    "        \"country\": \"France\",\n",
    "        \"approximate_population\":\"2.141 million approx\",\n",
    "        \"fact\":\"Paris, France's capital, is a major European city and a global center for art, fashion gastronomy and culture\"\n",
    "    }\n",
    "}\n",
    "\n",
    "\n",
    "for i in city:\n",
    "    enter=input(\"enter city name : \\n1:karachi\\n2:Dubai\\n3:paris\\n4:exit\\n\")\n",
    "    if enter == \"karachi\":\n",
    "        print(city[\"karachi\"])\n",
    "    elif enter == \"Dubai\":\n",
    "        print(city[\"Dubai\"])\n",
    "    elif enter == \"paris\":\n",
    "        print(city[\"paris\"])\n",
    "    elif enter == \"exit\":\n",
    "        break;\n",
    "    else:\n",
    "        print(\"enter correct city name\")\n"
   ]
  },
  {
   "cell_type": "code",
   "execution_count": 3,
   "metadata": {},
   "outputs": [
    {
     "name": "stdout",
     "output_type": "stream",
     "text": [
      "Enter the no. of Person : 4\n",
      "Enter The Age Of Person: 3\n",
      "Your Ticket is Free! Enjoy Your Movie\n",
      "Enter The Age Of Person: 6\n",
      "Your Ticket price will be 10$\n",
      "Enter The Age Of Person: 23\n",
      "Your Ticket price will be 15$\n",
      "Enter The Age Of Person: 30\n",
      "Your Ticket price will be 15$\n",
      "Total Amount =  40  $ Enjoy Your Movie\n"
     ]
    }
   ],
   "source": [
    "# Q3\n",
    "persons = int(input(\"Enter the no. of Person : \"))\n",
    "\n",
    "total_price = 0\n",
    "\n",
    "for i in range(1,persons+1):\n",
    "    age = int(input(\"Enter The Age Of Person: \"))\n",
    "    if age <= 3:\n",
    "        print(\"Your Ticket is Free! Enjoy Your Movie\")\n",
    "    elif age <= 12:\n",
    "        print(\"Your Ticket price will be 10$\")\n",
    "        total_price +=10\n",
    "    else:\n",
    "        print(\"Your Ticket price will be 15$\")\n",
    "        total_price +=15\n",
    "\n",
    "print(\"Total Amount = \",total_price,\" $ Enjoy Your Movie\")"
   ]
  },
  {
   "cell_type": "code",
   "execution_count": 4,
   "metadata": {},
   "outputs": [
    {
     "name": "stdout",
     "output_type": "stream",
     "text": [
      "Enter The Bookk Title: Alice in Wonderland\n",
      "One of my favorite books is  Alice in Wonderland\n"
     ]
    }
   ],
   "source": [
    "# Q4\n",
    "def favorite_book(book_name):\n",
    "    print(\"One of my favorite books is \",book_name)\n",
    "    \n",
    "title=input(\"Enter The Bookk Title: \")\n",
    "\n",
    "favorite_book(title)"
   ]
  },
  {
   "cell_type": "code",
   "execution_count": 5,
   "metadata": {},
   "outputs": [
    {
     "name": "stdout",
     "output_type": "stream",
     "text": [
      "Guess the number between 1 to 30 : 20\n",
      "Your guess is too high\n",
      "Guess the number between 1 to 30 : 10\n",
      "Your guess is too low\n",
      "Guess the number between 1 to 30 : 16\n",
      "Your guess is too low\n",
      "You Loose\n",
      "Correct Number is  19\n"
     ]
    }
   ],
   "source": [
    "# Q5\n",
    "import random\n",
    "\n",
    "random_number = random.randrange(1,30)\n",
    "\n",
    "flag = False\n",
    "\n",
    "for i in range(1,4):\n",
    "    guess = int(input(\"Guess the number between 1 to 30 : \"))\n",
    "    if guess == random_number:\n",
    "        flag = True \n",
    "        break\n",
    "    elif guess < random_number:\n",
    "        print(\"Your guess is too low\")\n",
    "    else:\n",
    "        print(\"Your guess is too high\")\n",
    "        \n",
    "if flag:\n",
    "    print(\"Congratulation you Win!!\")\n",
    "else:\n",
    "    print(\"You Loose\")\n",
    "    print(\"Correct Number is \", random_number)"
   ]
  },
  {
   "cell_type": "code",
   "execution_count": null,
   "metadata": {},
   "outputs": [],
   "source": []
  }
 ],
 "metadata": {
  "kernelspec": {
   "display_name": "Python 3",
   "language": "python",
   "name": "python3"
  },
  "language_info": {
   "codemirror_mode": {
    "name": "ipython",
    "version": 3
   },
   "file_extension": ".py",
   "mimetype": "text/x-python",
   "name": "python",
   "nbconvert_exporter": "python",
   "pygments_lexer": "ipython3",
   "version": "3.7.4"
  }
 },
 "nbformat": 4,
 "nbformat_minor": 2
}
