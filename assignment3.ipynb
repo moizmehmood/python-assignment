{
 "cells": [
  {
   "cell_type": "code",
   "execution_count": 12,
   "metadata": {},
   "outputs": [
    {
     "name": "stdout",
     "output_type": "stream",
     "text": [
      "enter first number : 3\n",
      "enter second number : 4\n",
      "enter operator\n",
      "+\n",
      "-\n",
      "*\n",
      "/\n",
      "pow\n",
      "pow\n",
      "enter power3\n",
      "1st number  3 power  3 is 27\n",
      "2ns number  4 power  3 is 64\n"
     ]
    }
   ],
   "source": [
    "# q1\n",
    "val1=int(input(\"enter first number : \"))\n",
    "val2=int(input(\"enter second number : \"))\n",
    "operator=input(\"enter operator\\n+\\n-\\n*\\n/\\npow\\n\")\n",
    "if operator == '+' :\n",
    " val = val1 + val2\n",
    " print('ans is : ',val)\n",
    "elif operator == '-' :\n",
    " val = val1 - val2\n",
    " print('ans is : ',val)\n",
    "elif operator == '*' :\n",
    " val = val1 * val2\n",
    " print('ans is : ',val)\n",
    "elif operator == '/' :\n",
    " val = val1 / val2\n",
    " print('ans is : ',val)\n",
    "elif operator == 'pow' :\n",
    " power=int(input(\"enter power\"))\n",
    " \n",
    " print('1st number ',val1,'power ',power,'is',val1**power)\n",
    " print('2ns number ',val2,'power ',power,'is',val2**power)\n",
    "else:\n",
    "    print('enter correct operator')"
   ]
  },
  {
   "cell_type": "code",
   "execution_count": 8,
   "metadata": {},
   "outputs": [
    {
     "name": "stdout",
     "output_type": "stream",
     "text": [
      "22 it is the numeric value\n",
      "54 it is the numeric value\n"
     ]
    }
   ],
   "source": [
    "#q2\n",
    "arr=[22,\"moiz\",54,\"ali\"]\n",
    "for i in arr:\n",
    "    if type(i) == int:\n",
    "        print(i,\"it is the numeric value\")"
   ]
  },
  {
   "cell_type": "code",
   "execution_count": 110,
   "metadata": {},
   "outputs": [
    {
     "name": "stdout",
     "output_type": "stream",
     "text": [
      "{'first name': 'moiz', 'last name': 'mehmood', 'address': 'p-408 block N', 'age': 32}\n"
     ]
    }
   ],
   "source": [
    "# q3\n",
    "# add the key and value\n",
    "dic={\n",
    "    \"first name\":\"moiz\",\n",
    "    \"last name\":\"mehmood\",\n",
    "    \"address\":\"p-408 block N\"\n",
    "    \n",
    "} \n",
    "dic[\"age\"]=32\n",
    "print(dic)"
   ]
  },
  {
   "cell_type": "code",
   "execution_count": 97,
   "metadata": {},
   "outputs": [
    {
     "name": "stdout",
     "output_type": "stream",
     "text": [
      "26\n"
     ]
    }
   ],
   "source": [
    "# q4\n",
    "things_to_remember = {\n",
    "       1: \"the lowest number\",\n",
    "       \"a dozen\": 12, \n",
    "       \"snake eyes\": \"a pair of ones\", \n",
    "       13: \"a baker's dozen\", \n",
    "    } \n",
    "sum = 0\n",
    "for k in things_to_remember.keys():\n",
    "    if type(k)== int:\n",
    "        sum+=k\n",
    "\n",
    "for v in things_to_remember.values():\n",
    "    \n",
    "    if type(v)==int:\n",
    "        sum+=v\n",
    "print(sum)"
   ]
  },
  {
   "cell_type": "code",
   "execution_count": 108,
   "metadata": {},
   "outputs": [
    {
     "name": "stdout",
     "output_type": "stream",
     "text": [
      "moiz is duplicate\n",
      "32 is duplicate\n",
      "asad is duplicate\n"
     ]
    }
   ],
   "source": [
    "#q5\n",
    "identi=[\"moiz\",32,\"ali\",54,\"moiz\",33,32,\"asad\",\"asad\"]\n",
    "dup=[]\n",
    "for i in identi:\n",
    "    for j in dup:\n",
    "        if (i==j):\n",
    "            print(i,\"is duplicate\")\n",
    "    dup.append(i)\n"
   ]
  },
  {
   "cell_type": "code",
   "execution_count": 118,
   "metadata": {},
   "outputs": [
    {
     "name": "stdout",
     "output_type": "stream",
     "text": [
      "enter key to check : num\n",
      "given key exist\n"
     ]
    }
   ],
   "source": [
    "# q6\n",
    "things_to_remember = {\n",
    "       \"num\": \"the lowest number\",\n",
    "       \"dozen\": 12, \n",
    "       \"snake\": \"a pair of ones\", \n",
    "       \"a baker's dozen\":13,\n",
    "       \"age\":30,\n",
    "    } \n",
    "check=input(\"enter key to check : \")\n",
    "for i in things_to_remember.keys():\n",
    "    if (i==check):\n",
    "        print(\"given key exist\")\n",
    "        break;\n",
    "    else:\n",
    "        print(\"given key does not exist\")"
   ]
  },
  {
   "cell_type": "code",
   "execution_count": null,
   "metadata": {},
   "outputs": [],
   "source": []
  }
 ],
 "metadata": {
  "kernelspec": {
   "display_name": "Python 3",
   "language": "python",
   "name": "python3"
  },
  "language_info": {
   "codemirror_mode": {
    "name": "ipython",
    "version": 3
   },
   "file_extension": ".py",
   "mimetype": "text/x-python",
   "name": "python",
   "nbconvert_exporter": "python",
   "pygments_lexer": "ipython3",
   "version": "3.7.4"
  }
 },
 "nbformat": 4,
 "nbformat_minor": 2
}
