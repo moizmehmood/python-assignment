{
 "cells": [
  {
   "cell_type": "code",
   "execution_count": 6,
   "metadata": {},
   "outputs": [
    {
     "name": "stdout",
     "output_type": "stream",
     "text": [
      "Twinkle, twinkle, little star, \n",
      " How I wonder what you are! \n",
      " \t\tUp above the world so high, \n",
      "\t\tLike a diamond in the sky. \n",
      " Twinkle, twinkle, little star,\n",
      "\t\tHow I wonder what you are \n"
     ]
    }
   ],
   "source": [
    "poem=\"Twinkle, twinkle, little star, \\n How I wonder what you are! \\n \\t\\tUp above the world so high, \\n\\t\\tLike a diamond in the sky. \\n Twinkle, twinkle, little star,\\n\\t\\tHow I wonder what you are \"\n",
    "print(poem)"
   ]
  },
  {
   "cell_type": "code",
   "execution_count": 7,
   "metadata": {},
   "outputs": [
    {
     "name": "stdout",
     "output_type": "stream",
     "text": [
      "3.7.4 (default, Aug  9 2019, 18:34:13) [MSC v.1915 64 bit (AMD64)]\n"
     ]
    }
   ],
   "source": [
    "import sys\n",
    "print(sys.version)"
   ]
  },
  {
   "cell_type": "code",
   "execution_count": 9,
   "metadata": {},
   "outputs": [
    {
     "name": "stdout",
     "output_type": "stream",
     "text": [
      "2019-11-20\n"
     ]
    }
   ],
   "source": [
    "from datetime import date\n",
    "print(date.today())"
   ]
  },
  {
   "cell_type": "code",
   "execution_count": 10,
   "metadata": {},
   "outputs": [
    {
     "name": "stdout",
     "output_type": "stream",
     "text": [
      "radius of a circle5\n",
      "31.400000000000002\n"
     ]
    }
   ],
   "source": [
    "r=input(\"radius of a circle\")\n",
    "radius = 2 * 3.14 * int(r)\n",
    "print(radius)"
   ]
  },
  {
   "cell_type": "code",
   "execution_count": 11,
   "metadata": {},
   "outputs": [
    {
     "name": "stdout",
     "output_type": "stream",
     "text": [
      "enter first name : moiz\n",
      "enter last name : mehmood\n",
      "mehmood moiz\n"
     ]
    }
   ],
   "source": [
    "first=input(\"enter first name : \")\n",
    "last=input(\"enter last name : \")\n",
    "name= last + \" \" + first\n",
    "print(name)"
   ]
  },
  {
   "cell_type": "code",
   "execution_count": 12,
   "metadata": {},
   "outputs": [
    {
     "name": "stdout",
     "output_type": "stream",
     "text": [
      "enter first number : 5\n",
      "enter second number : 4\n",
      "9\n"
     ]
    }
   ],
   "source": [
    "n1=input(\"enter first number : \")\n",
    "n2=input(\"enter second number : \")\n",
    "no= int(n1) + int (n2)\n",
    "print(no)"
   ]
  },
  {
   "cell_type": "code",
   "execution_count": null,
   "metadata": {},
   "outputs": [],
   "source": []
  }
 ],
 "metadata": {
  "kernelspec": {
   "display_name": "Python 3",
   "language": "python",
   "name": "python3"
  },
  "language_info": {
   "codemirror_mode": {
    "name": "ipython",
    "version": 3
   },
   "file_extension": ".py",
   "mimetype": "text/x-python",
   "name": "python",
   "nbconvert_exporter": "python",
   "pygments_lexer": "ipython3",
   "version": "3.7.4"
  }
 },
 "nbformat": 4,
 "nbformat_minor": 2
}
